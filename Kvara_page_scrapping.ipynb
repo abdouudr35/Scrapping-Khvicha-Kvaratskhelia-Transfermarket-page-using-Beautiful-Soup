{
 "cells": [
  {
   "cell_type": "code",
   "execution_count": 17,
   "metadata": {},
   "outputs": [],
   "source": [
    "import re\n",
    "import requests\n",
    "from bs4 import BeautifulSoup"
   ]
  },
  {
   "cell_type": "markdown",
   "metadata": {},
   "source": [
    "1/ Scrapping the Player Page Header"
   ]
  },
  {
   "cell_type": "code",
   "execution_count": 18,
   "metadata": {},
   "outputs": [],
   "source": [
    "url = \"https://www.transfermarkt.us/khvicha-kvaratskhelia/profil/spieler/502670\"\n",
    "player_id = url.split(\"/\")[-1]\n",
    "headers = {\n",
    "    \"user-agent\" : \"Mozilla/5.0 (Windows NT 10.0; Win64; x64) AppleWebKit/537.36 (KHTML, like Gecko) Chrome/129.0.0.0 Safari/537.36 Edg/129.0.0.0\"\n",
    "}\n",
    "\n"
   ]
  },
  {
   "cell_type": "code",
   "execution_count": 19,
   "metadata": {},
   "outputs": [
    {
     "data": {
      "text/plain": [
       "200"
      ]
     },
     "execution_count": 19,
     "metadata": {},
     "output_type": "execute_result"
    }
   ],
   "source": [
    "response = requests.get(url, headers = headers)\n",
    "response.status_code"
   ]
  },
  {
   "cell_type": "code",
   "execution_count": 20,
   "metadata": {},
   "outputs": [],
   "source": [
    "soup = BeautifulSoup(response.content, \"html.parser\")"
   ]
  },
  {
   "cell_type": "code",
   "execution_count": 51,
   "metadata": {},
   "outputs": [
    {
     "name": "stdout",
     "output_type": "stream",
     "text": [
      "Player name : Khvicha Kvaratskhelia\n"
     ]
    }
   ],
   "source": [
    "player_name = soup.select_one('h1[class =\"data-header__headline-wrapper\"]').text.split(\"\\n\")[-1].strip()\n",
    "print (\"Player name :\", player_name)\n"
   ]
  },
  {
   "cell_type": "code",
   "execution_count": 50,
   "metadata": {},
   "outputs": [
    {
     "name": "stdout",
     "output_type": "stream",
     "text": [
      "Player number : 77\n"
     ]
    }
   ],
   "source": [
    "player_number = soup.select_one('span[class=\"data-header__shirt-number\"]').text.replace('#', '').strip()\n",
    "print(\"Player number :\", int(player_number))"
   ]
  },
  {
   "cell_type": "markdown",
   "metadata": {},
   "source": [
    "2/ Scrapping some Page Details using REGEX"
   ]
  },
  {
   "cell_type": "code",
   "execution_count": 52,
   "metadata": {},
   "outputs": [
    {
     "name": "stdout",
     "output_type": "stream",
     "text": [
      "Player position:  Left Winger\n",
      "Player height :  1,83 m\n",
      "International Caps : 36\n"
     ]
    }
   ],
   "source": [
    "player_position = re.search(r\"Position:\\s*<span[^>]*>\\s*(.*?)\\s*</span>\", str(soup)).group(1)\n",
    "print (\"Player position: \" , player_position)\n",
    "player_height = re.search(r'Height:\\s*<span[^>]*>\\s*(\\d{1},\\d{2}\\s*m)\\s*</span>', str(soup)).group(1)\n",
    "print (\"Player height : \" , player_height)\n",
    "International_Caps= re.search(r'Caps/Goals:\\s*<a[^>]*>\\s*(\\d+)\\s*</a>', str(soup)).group(1)\n",
    "print(\"International Caps :\", int(International_Caps))\n"
   ]
  },
  {
   "cell_type": "markdown",
   "metadata": {},
   "source": [
    "3/ Scrapping the Market Value Graph"
   ]
  },
  {
   "cell_type": "code",
   "execution_count": 46,
   "metadata": {},
   "outputs": [
    {
     "data": {
      "text/plain": [
       "{'list': [{'x': 1512687600000,\n",
       "   'y': 125000,\n",
       "   'mw': '€125k',\n",
       "   'datum_mw': 'Dec 8, 2017',\n",
       "   'verein': 'Dinamo Tbilisi',\n",
       "   'age': '16',\n",
       "   'wappen': 'https://tmssl.akamaized.net//images/wappen/profil/663.png?lm=1474921564'},\n",
       "  {'x': 1523224800000,\n",
       "   'y': 350000,\n",
       "   'mw': '€350k',\n",
       "   'datum_mw': 'Apr 9, 2018',\n",
       "   'verein': 'FC Rustavi',\n",
       "   'age': '17',\n",
       "   'wappen': 'https://tmssl.akamaized.net//images/wappen/profil/1799.png?lm=1552479737'},\n",
       "  {'x': 1535493600000,\n",
       "   'y': 400000,\n",
       "   'mw': '€400k',\n",
       "   'datum_mw': 'Aug 29, 2018',\n",
       "   'verein': 'FC Rustavi',\n",
       "   'age': '17',\n",
       "   'wappen': ''},\n",
       "  {'x': 1546642800000,\n",
       "   'y': 350000,\n",
       "   'mw': '€350k',\n",
       "   'datum_mw': 'Jan 5, 2019',\n",
       "   'verein': 'FC Rustavi',\n",
       "   'age': '17',\n",
       "   'wappen': ''},\n",
       "  {'x': 1556056800000,\n",
       "   'y': 500000,\n",
       "   'mw': '€500k',\n",
       "   'datum_mw': 'Apr 24, 2019',\n",
       "   'verein': 'Lokomotiv Moscow',\n",
       "   'age': '18',\n",
       "   'wappen': 'https://tmssl.akamaized.net//images/wappen/profil/932.png?lm=1486195738'},\n",
       "  {'x': 1560463200000,\n",
       "   'y': 900000,\n",
       "   'mw': '€900k',\n",
       "   'datum_mw': 'Jun 14, 2019',\n",
       "   'verein': 'Lokomotiv Moscow',\n",
       "   'age': '18',\n",
       "   'wappen': ''},\n",
       "  {'x': 1568066400000,\n",
       "   'y': 1500000,\n",
       "   'mw': '€1.50m',\n",
       "   'datum_mw': 'Sep 10, 2019',\n",
       "   'verein': 'Rubin Kazan',\n",
       "   'age': '18',\n",
       "   'wappen': 'https://tmssl.akamaized.net//images/wappen/profil/2698.png?lm=1561987986'},\n",
       "  {'x': 1577055600000,\n",
       "   'y': 2500000,\n",
       "   'mw': '€2.50m',\n",
       "   'datum_mw': 'Dec 23, 2019',\n",
       "   'verein': 'Rubin Kazan',\n",
       "   'age': '18',\n",
       "   'wappen': ''},\n",
       "  {'x': 1586296800000,\n",
       "   'y': 2300000,\n",
       "   'mw': '€2.30m',\n",
       "   'datum_mw': 'Apr 8, 2020',\n",
       "   'verein': 'Rubin Kazan',\n",
       "   'age': '19',\n",
       "   'wappen': ''},\n",
       "  {'x': 1595973600000,\n",
       "   'y': 4500000,\n",
       "   'mw': '€4.50m',\n",
       "   'datum_mw': 'Jul 29, 2020',\n",
       "   'verein': 'Rubin Kazan',\n",
       "   'age': '19',\n",
       "   'wappen': ''},\n",
       "  {'x': 1603058400000,\n",
       "   'y': 7500000,\n",
       "   'mw': '€7.50m',\n",
       "   'datum_mw': 'Oct 19, 2020',\n",
       "   'verein': 'Rubin Kazan',\n",
       "   'age': '19',\n",
       "   'wappen': ''},\n",
       "  {'x': 1609196400000,\n",
       "   'y': 10000000,\n",
       "   'mw': '€10.00m',\n",
       "   'datum_mw': 'Dec 29, 2020',\n",
       "   'verein': 'Rubin Kazan',\n",
       "   'age': '19',\n",
       "   'wappen': ''},\n",
       "  {'x': 1618264800000,\n",
       "   'y': 15000000,\n",
       "   'mw': '€15.00m',\n",
       "   'datum_mw': 'Apr 13, 2021',\n",
       "   'verein': 'Rubin Kazan',\n",
       "   'age': '20',\n",
       "   'wappen': ''},\n",
       "  {'x': 1622584800000,\n",
       "   'y': 18000000,\n",
       "   'mw': '€18.00m',\n",
       "   'datum_mw': 'Jun 2, 2021',\n",
       "   'verein': 'Rubin Kazan',\n",
       "   'age': '20',\n",
       "   'wappen': ''},\n",
       "  {'x': 1640732400000,\n",
       "   'y': 16000000,\n",
       "   'mw': '€16.00m',\n",
       "   'datum_mw': 'Dec 29, 2021',\n",
       "   'verein': 'Rubin Kazan',\n",
       "   'age': '20',\n",
       "   'wappen': ''},\n",
       "  {'x': 1651701600000,\n",
       "   'y': 15000000,\n",
       "   'mw': '€15.00m',\n",
       "   'datum_mw': 'May 5, 2022',\n",
       "   'verein': 'Dinamo Batumi',\n",
       "   'age': '21',\n",
       "   'wappen': 'https://tmssl.akamaized.net//images/wappen/profil/11344.png?lm=1420654425'},\n",
       "  {'x': 1664229600000,\n",
       "   'y': 35000000,\n",
       "   'mw': '€35.00m',\n",
       "   'datum_mw': 'Sep 27, 2022',\n",
       "   'verein': 'SSC Napoli',\n",
       "   'age': '21',\n",
       "   'wappen': 'https://tmssl.akamaized.net//images/wappen/profil/6195_1720450885.png?lm=1720450885'},\n",
       "  {'x': 1668121200000,\n",
       "   'y': 60000000,\n",
       "   'mw': '€60.00m',\n",
       "   'datum_mw': 'Nov 11, 2022',\n",
       "   'verein': 'SSC Napoli',\n",
       "   'age': '21',\n",
       "   'wappen': ''},\n",
       "  {'x': 1679353200000,\n",
       "   'y': 85000000,\n",
       "   'mw': '€85.00m',\n",
       "   'datum_mw': 'Mar 21, 2023',\n",
       "   'verein': 'SSC Napoli',\n",
       "   'age': '22',\n",
       "   'wappen': ''},\n",
       "  {'x': 1686780000000,\n",
       "   'y': 85000000,\n",
       "   'mw': '€85.00m',\n",
       "   'datum_mw': 'Jun 15, 2023',\n",
       "   'verein': 'SSC Napoli',\n",
       "   'age': '22',\n",
       "   'wappen': ''},\n",
       "  {'x': 1703026800000,\n",
       "   'y': 80000000,\n",
       "   'mw': '€80.00m',\n",
       "   'datum_mw': 'Dec 20, 2023',\n",
       "   'verein': 'SSC Napoli',\n",
       "   'age': '22',\n",
       "   'wappen': ''},\n",
       "  {'x': 1717538400000,\n",
       "   'y': 80000000,\n",
       "   'mw': '€80.00m',\n",
       "   'datum_mw': 'Jun 5, 2024',\n",
       "   'verein': 'SSC Napoli',\n",
       "   'age': '23',\n",
       "   'wappen': 'https://tmssl.akamaized.net//images/wappen/profil/6195_1720450885.png?lm=1720450885'}],\n",
       " 'current': '€80.00m',\n",
       " 'highest': '€85.00m',\n",
       " 'highest_date': 'Mar 21, 2023',\n",
       " 'last_change': 'Jun 5, 2024',\n",
       " 'details_url': '/khvicha-kvaratskhelia/marktwertverlauf/spieler/502670',\n",
       " 'thread': {'url': '', 'thread_title': '', 'count_replies': ''},\n",
       " 'translations': {'market value': 'Market value',\n",
       "  'team': 'Club',\n",
       "  'age': 'Age',\n",
       "  'resetZoom': 'Vollansicht',\n",
       "  'current': 'Current Market Value\\n\\n',\n",
       "  'highest': 'Highest market value',\n",
       "  'thread': 'View market value analysis',\n",
       "  'forum': 'Forum',\n",
       "  'details': 'Market value details',\n",
       "  'headline': 'Market value over time',\n",
       "  'lastChange': 'Last update'}}"
      ]
     },
     "execution_count": 46,
     "metadata": {},
     "output_type": "execute_result"
    }
   ],
   "source": [
    "response = requests.get('https://www.transfermarkt.us/ceapi/marketValueDevelopment/graph/502670', headers=headers)\n",
    "response.json()"
   ]
  }
 ],
 "metadata": {
  "kernelspec": {
   "display_name": "Python 3",
   "language": "python",
   "name": "python3"
  },
  "language_info": {
   "codemirror_mode": {
    "name": "ipython",
    "version": 3
   },
   "file_extension": ".py",
   "mimetype": "text/x-python",
   "name": "python",
   "nbconvert_exporter": "python",
   "pygments_lexer": "ipython3",
   "version": "3.12.3"
  }
 },
 "nbformat": 4,
 "nbformat_minor": 2
}
